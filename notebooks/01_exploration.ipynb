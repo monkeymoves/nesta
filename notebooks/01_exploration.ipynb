{
 "cells": [
  {
   "cell_type": "markdown",
   "metadata": {},
   "source": [
    "# Interview Analysis Notebook\n",
    "\n",
    "This notebook is set up to load the provided CSV files and explore them systematically."
   ]
  },
  {
   "cell_type": "code",
   "execution_count": 3,
   "metadata": {},
   "outputs": [
    {
     "name": "stdout",
     "output_type": "stream",
     "text": [
      "Project root: /Users/lukemaggs/Desktop/Nesta_Interview_LM\n",
      "Raw data dir: /Users/lukemaggs/Desktop/Nesta_Interview_LM/data/raw\n",
      "Files to load: ['nh_monthly_variables.csv', 'ifs_quarterly_variables.csv', 'qual_survey_responses.csv', 'variable_names.csv']\n"
     ]
    }
   ],
   "source": [
    "# === Config ===\n",
    "from pathlib import Path\n",
    "import sys\n",
    "import os\n",
    "\n",
    "# if notebook is inside /notebooks, go up one level, otherwise stay where you are\n",
    "PROJECT_ROOT = Path.cwd().parents[0] if Path.cwd().name == \"notebooks\" else Path.cwd()\n",
    "SRC = PROJECT_ROOT / \"src\"\n",
    "\n",
    "# Add src folder to Python path\n",
    "sys.path.append(str(SRC))\n",
    "\n",
    "DATA_RAW = PROJECT_ROOT / \"data\" / \"raw\"\n",
    "DATA_EXTERNAL = PROJECT_ROOT / \"data\" / \"external\"\n",
    "DATA_PROCESSED = PROJECT_ROOT / \"data\" / \"processed\"\n",
    "\n",
    "FILENAMES = [\n",
    "    'nh_monthly_variables.csv',\n",
    "    'ifs_quarterly_variables.csv',\n",
    "    'qual_survey_responses.csv',\n",
    "    'variable_names.csv'\n",
    "]\n",
    "\n",
    "print(\"Project root:\", PROJECT_ROOT)\n",
    "print(\"Raw data dir:\", DATA_RAW)\n",
    "print(\"Files to load:\", FILENAMES)"
   ]
  },
  {
   "cell_type": "code",
   "execution_count": null,
   "metadata": {},
   "outputs": [],
   "source": [
    "# === Imports ===\n",
    "import pandas as pd\n",
    "import numpy as np\n",
    "import matplotlib.pyplot as plt\n",
    "from data_io import read_csv, raw_path, processed_path\n",
    "\n",
    "\n",
    "pd.set_option('display.max_columns', 100)\n",
    "pd.set_option('display.width', 120)\n"
   ]
  },
  {
   "cell_type": "code",
   "execution_count": null,
   "metadata": {},
   "outputs": [],
   "source": [
    "# === Load data ===\n",
    "dfs = {}\n",
    "for fn in FILENAMES:\n",
    "    path = DATA_RAW / fn\n",
    "    if not path.exists():\n",
    "        print(f\"WARNING: {path} not found. Place your CSVs in data/raw.\")\n",
    "    else:\n",
    "        dfs[fn] = read_csv(path)\n",
    "        print(f\"Loaded {fn}: shape = {dfs[fn].shape}\")\n",
    "dfs.keys()\n"
   ]
  },
  {
   "cell_type": "code",
   "execution_count": null,
   "metadata": {},
   "outputs": [],
   "source": [
    "# === Quick overview ===\n",
    "for fn, df in dfs.items():\n",
    "    print('\\n---', fn, '---')\n",
    "    display(df.head())\n",
    "    display(df.describe(include='all').T)\n",
    "    print('Nulls by column:')\n",
    "    display(df.isna().sum())\n"
   ]
  },
  {
   "cell_type": "code",
   "execution_count": null,
   "metadata": {},
   "outputs": [],
   "source": [
    "# === Example plot ===\n",
    "for fn, df in dfs.items():\n",
    "    num_cols = df.select_dtypes(include='number').columns.tolist()\n",
    "    if not num_cols:\n",
    "        continue\n",
    "    col = num_cols[0]\n",
    "    plt.figure()\n",
    "    df[col].dropna().hist()\n",
    "    plt.title(f\"{fn}: Distribution of {col}\")\n",
    "    plt.xlabel(col)\n",
    "    plt.ylabel('Count')\n",
    "    plt.show()\n"
   ]
  }
 ],
 "metadata": {
  "kernelspec": {
   "display_name": ".venv",
   "language": "python",
   "name": "python3"
  },
  "language_info": {
   "codemirror_mode": {
    "name": "ipython",
    "version": 3
   },
   "file_extension": ".py",
   "mimetype": "text/x-python",
   "name": "python",
   "nbconvert_exporter": "python",
   "pygments_lexer": "ipython3",
   "version": "3.11.4"
  }
 },
 "nbformat": 4,
 "nbformat_minor": 5
}
