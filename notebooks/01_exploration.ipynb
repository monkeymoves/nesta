{
 "cells": [
  {
   "cell_type": "markdown",
   "metadata": {},
   "source": [
    "# Interview Analysis Notebook\n",
    "\n",
    "This notebook is set up to load the provided CSV files and explore them systematically."
   ]
  },
  {
   "cell_type": "code",
   "execution_count": 7,
   "id": "b69e2bf2",
   "metadata": {},
   "outputs": [],
   "source": [
    "# --- Colab bootstrap (safe to run locally too) ---\n",
    "REPO_URL = \"https://github.com/monkeymoves/nesta.git\"\n",
    "REPO_DIRNAME = \"nesta\"  # folder name after cloning\n",
    "\n",
    "try:\n",
    "    import google.colab  # type: ignore\n",
    "    IN_COLAB = True\n",
    "except Exception:\n",
    "    IN_COLAB = False\n",
    "\n",
    "if IN_COLAB:\n",
    "    import os, sys, subprocess\n",
    "    # clone if not present\n",
    "    if not os.path.exists(REPO_DIRNAME):\n",
    "        subprocess.run([\"git\", \"clone\", REPO_URL], check=True)\n",
    "    # cd into the repo root\n",
    "    os.chdir(REPO_DIRNAME)\n",
    "    # ensure src is on path\n",
    "    if \"src\" not in sys.path:\n",
    "        sys.path.append(os.path.abspath(\"src\"))"
   ]
  },
  {
   "cell_type": "code",
   "execution_count": null,
   "metadata": {},
   "outputs": [
    {
     "name": "stdout",
     "output_type": "stream",
     "text": [
      "Project root: /Users/lukemaggs/Desktop/Nesta_Interview_LM/notebooks\n",
      "Raw data dir: /Users/lukemaggs/Desktop/Nesta_Interview_LM/notebooks/data/raw\n",
      "Files to load: ['nh_monthly_variables.csv', 'ifs_quarterly_variables.csv', 'qual_survey_responses.csv', 'variable_names.csv']\n"
     ]
    }
   ],
   "source": [
    "# === Config ===\n",
    "from pathlib import Path\n",
    "import sys\n",
    "\n",
    "PROJECT_ROOT = Path.cwd()\n",
    "SRC = PROJECT_ROOT / \"src\"\n",
    "if str(SRC) not in sys.path:\n",
    "    sys.path.append(str(PROJECT_ROOT))\n",
    "\n",
    "DATA_RAW = PROJECT_ROOT / \"data\" / \"raw\"\n",
    "DATA_EXTERNAL = PROJECT_ROOT / \"data\" / \"external\"\n",
    "DATA_PROCESSED = PROJECT_ROOT / \"data\" / \"processed\"\n",
    "\n",
    "FILENAMES = [\n",
    "    'nh_monthly_variables.csv',\n",
    "    'ifs_quarterly_variables.csv',\n",
    "    'qual_survey_responses.csv',\n",
    "    'variable_names.csv'\n",
    "]\n",
    "\n",
    "print(\"Project root:\", PROJECT_ROOT)\n",
    "print(\"Raw data dir:\", DATA_RAW)\n",
    "print(\"Files to load:\", FILENAMES)"
   ]
  },
  {
   "cell_type": "code",
   "execution_count": null,
   "metadata": {},
   "outputs": [],
   "source": [
    "# === Imports ===\n",
    "import pandas as pd\n",
    "import numpy as np\n",
    "import matplotlib.pyplot as plt\n",
    "from src.data_io import read_csv, raw_path, processed_path\n",
    "\n",
    "\n",
    "pd.set_option('display.max_columns', 100)\n",
    "pd.set_option('display.width', 120)\n"
   ]
  },
  {
   "cell_type": "code",
   "execution_count": 9,
   "metadata": {},
   "outputs": [
    {
     "name": "stdout",
     "output_type": "stream",
     "text": [
      "WARNING: /Users/lukemaggs/Desktop/Nesta_Interview_LM/notebooks/data/raw/nh_monthly_variables.csv not found. Place your CSVs in data/raw.\n",
      "WARNING: /Users/lukemaggs/Desktop/Nesta_Interview_LM/notebooks/data/raw/ifs_quarterly_variables.csv not found. Place your CSVs in data/raw.\n",
      "WARNING: /Users/lukemaggs/Desktop/Nesta_Interview_LM/notebooks/data/raw/qual_survey_responses.csv not found. Place your CSVs in data/raw.\n",
      "WARNING: /Users/lukemaggs/Desktop/Nesta_Interview_LM/notebooks/data/raw/variable_names.csv not found. Place your CSVs in data/raw.\n"
     ]
    },
    {
     "data": {
      "text/plain": [
       "dict_keys([])"
      ]
     },
     "execution_count": 9,
     "metadata": {},
     "output_type": "execute_result"
    }
   ],
   "source": [
    "# === Load data ===\n",
    "dfs = {}\n",
    "for fn in FILENAMES:\n",
    "    path = DATA_RAW / fn\n",
    "    if not path.exists():\n",
    "        print(f\"WARNING: {path} not found. Place your CSVs in data/raw.\")\n",
    "    else:\n",
    "        dfs[fn] = read_csv(path)\n",
    "        print(f\"Loaded {fn}: shape = {dfs[fn].shape}\")\n",
    "dfs.keys()\n"
   ]
  },
  {
   "cell_type": "code",
   "execution_count": null,
   "metadata": {},
   "outputs": [],
   "source": [
    "# === Quick overview ===\n",
    "for fn, df in dfs.items():\n",
    "    print('\\n---', fn, '---')\n",
    "    display(df.head())\n",
    "    display(df.describe(include='all').T)\n",
    "    print('Nulls by column:')\n",
    "    display(df.isna().sum())\n"
   ]
  },
  {
   "cell_type": "code",
   "execution_count": null,
   "metadata": {},
   "outputs": [],
   "source": [
    "# === Example plot ===\n",
    "for fn, df in dfs.items():\n",
    "    num_cols = df.select_dtypes(include='number').columns.tolist()\n",
    "    if not num_cols:\n",
    "        continue\n",
    "    col = num_cols[0]\n",
    "    plt.figure()\n",
    "    df[col].dropna().hist()\n",
    "    plt.title(f\"{fn}: Distribution of {col}\")\n",
    "    plt.xlabel(col)\n",
    "    plt.ylabel('Count')\n",
    "    plt.show()\n"
   ]
  }
 ],
 "metadata": {
  "kernelspec": {
   "display_name": ".venv",
   "language": "python",
   "name": "python3"
  },
  "language_info": {
   "codemirror_mode": {
    "name": "ipython",
    "version": 3
   },
   "file_extension": ".py",
   "mimetype": "text/x-python",
   "name": "python",
   "nbconvert_exporter": "python",
   "pygments_lexer": "ipython3",
   "version": "3.11.4"
  }
 },
 "nbformat": 4,
 "nbformat_minor": 5
}
